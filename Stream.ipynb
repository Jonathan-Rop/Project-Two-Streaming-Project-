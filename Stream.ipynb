{
 "cells": [
  {
   "cell_type": "code",
   "execution_count": 0,
   "metadata": {
    "application/vnd.databricks.v1+cell": {
     "cellMetadata": {
      "byteLimit": 2048000,
      "rowLimit": 10000
     },
     "inputWidgets": {},
     "nuid": "25e43636-0a4f-4e57-bf9e-d36c69fb6123",
     "showTitle": false,
     "tableResultSettingsMap": {},
     "title": ""
    }
   },
   "outputs": [],
   "source": [
    "from pyspark.sql import SparkSession\n",
    "\n",
    "spark = SparkSession.builder \\\n",
    "    .appName(\"KWS\") \\\n",
    "    .getOrCreate()\n"
   ]
  },
  {
   "cell_type": "code",
   "execution_count": 0,
   "metadata": {
    "application/vnd.databricks.v1+cell": {
     "cellMetadata": {
      "byteLimit": 2048000,
      "rowLimit": 10000
     },
     "inputWidgets": {},
     "nuid": "18fef1bc-02ab-493c-9f74-21f248d3ceed",
     "showTitle": false,
     "tableResultSettingsMap": {},
     "title": ""
    }
   },
   "outputs": [
    {
     "output_type": "stream",
     "name": "stdout",
     "output_type": "stream",
     "text": [
      "3.5.2\n"
     ]
    }
   ],
   "source": [
    "print(spark.version)"
   ]
  },
  {
   "cell_type": "code",
   "execution_count": 0,
   "metadata": {
    "application/vnd.databricks.v1+cell": {
     "cellMetadata": {
      "byteLimit": 2048000,
      "rowLimit": 10000
     },
     "inputWidgets": {},
     "nuid": "071d7b27-a6a3-4ca7-9f7e-3b7d54e509fb",
     "showTitle": false,
     "tableResultSettingsMap": {},
     "title": ""
    }
   },
   "outputs": [
    {
     "output_type": "stream",
     "name": "stdout",
     "output_type": "stream",
     "text": [
      "+--------------------------------------------------------------------------------------------------------------------------------------------------------------------------------------------------------------------------------------+--------------------+-----+----+--------+----+------------+-----+----------+-----+-----------+---------+\n|Watamu Marine Park, Mombasa Marine Park, Nairobi Safari Walk, Nairobi National Park, Nairobi Animal Orphanage, Malindi Marine Park, Kiunga Marine Park, Kisite-Mpunguti Marine Park - DAILY REVENUE STATUS for 2025-07-01 - 2025-07-08|                 _c1|  _c2| _c3|     _c4| _c5|         _c6|  _c7|       _c8|  _c9|       _c10|     _c11|\n+--------------------------------------------------------------------------------------------------------------------------------------------------------------------------------------------------------------------------------------+--------------------+-----+----+--------+----+------------+-----+----------+-----+-----------+---------+\n|                                                                                                                                                                                                                                Report|                NULL| NULL|NULL|    NULL|NULL|        NULL| NULL|      NULL| NULL|       NULL|     NULL|\n|                                                                                                                                                                                                                                  NULL|Total Expected Vi...| NULL|NULL|    NULL|NULL|        NULL| NULL|T/VISITORS|T/VEH|       NULL|     NULL|\n|                                                                                                                                                                                                                                  DATE|             CITIZEN| NULL|NULL|RESIDENT|NULL|NON-RESIDENT| NULL|      NULL| NULL|        KES|      USD|\n|                                                                                                                                                                                                                                  NULL|                   A|    C|   S|       A|   C|           A|    C|      NULL| NULL|       NULL|     NULL|\n|                                                                                                                                                                                                                              1-Jul-25|               318.0|119.0|   0|    12.0|   2|       335.0| 49.0|     835.0| 70.0| 1714845.00| 704.3780|\n|                                                                                                                                                                                                                              2-Jul-25|               329.0| 51.0|   0|    14.0| 5.0|       280.0| 62.0|     741.0| 98.0| 1573440.00|1061.1460|\n|                                                                                                                                                                                                                              3-Jul-25|               431.0| 57.0|  86|     9.0| 5.0|       345.0| 79.0|    1012.0|119.0| 2059325.00|   963.00|\n|                                                                                                                                                                                                                              4-Jul-25|               572.0| 76.0| 172|    10.0| 3.0|       427.0| 67.0|    1327.0|115.0| 2054360.00|2076.7400|\n|                                                                                                                                                                                                                              5-Jul-25|               653.0| 83.0|   0|    30.0| 5.0|       468.0| 79.0|    1318.0|190.0| 2637555.00|  1550.00|\n|                                                                                                                                                                                                                              6-Jul-25|               727.0|151.0|  40|    70.0| 9.0|       372.0| 86.0|    1455.0|222.0| 2396830.00|1581.2080|\n|                                                                                                                                                                                                                              7-Jul-25|               335.0|111.0|   0|    11.0| 1.0|       252.0| 40.0|     750.0| 38.0|  889140.00|1584.0720|\n|                                                                                                                                                                                                                              8-Jul-25|               163.0| 17.0|  70|      15| 6.0|       202.0| 31.0|     504.0| 38.0|  970500.00|        0|\n|                                                                                                                                                                                                                                Totals|              3528.0|665.0| 368|   171.0|36.0|      2681.0|493.0|    7942.0|890.0|14295995.00|9520.5440|\n+--------------------------------------------------------------------------------------------------------------------------------------------------------------------------------------------------------------------------------------+--------------------+-----+----+--------+----+------------+-----+----------+-----+-----------+---------+\n\n"
     ]
    }
   ],
   "source": [
    "df = spark.read.csv(\"/Volumes/workspace/default/kws/jkr.csv\", header=True, inferSchema=True)\n",
    "df.show()\n"
   ]
  },
  {
   "cell_type": "code",
   "execution_count": 0,
   "metadata": {
    "application/vnd.databricks.v1+cell": {
     "cellMetadata": {
      "byteLimit": 2048000,
      "rowLimit": 10000
     },
     "inputWidgets": {},
     "nuid": "5b9e37f0-7017-4082-9e03-837ada7fe8c6",
     "showTitle": false,
     "tableResultSettingsMap": {},
     "title": ""
    }
   },
   "outputs": [
    {
     "output_type": "execute_result",
     "data": {
      "text/plain": [
       "Row(Watamu Marine Park, Mombasa Marine Park, Nairobi Safari Walk, Nairobi National Park, Nairobi Animal Orphanage, Malindi Marine Park, Kiunga Marine Park, Kisite-Mpunguti Marine Park - DAILY REVENUE STATUS for 2025-07-01 - 2025-07-08='Report', _c1=None, _c2=None, _c3=None, _c4=None, _c5=None, _c6=None, _c7=None, _c8=None, _c9=None, _c10=None, _c11=None)"
      ]
     },
     "execution_count": 27,
     "metadata": {},
     "output_type": "execute_result"
    }
   ],
   "source": [
    "df.head()"
   ]
  },
  {
   "cell_type": "code",
   "execution_count": 0,
   "metadata": {
    "application/vnd.databricks.v1+cell": {
     "cellMetadata": {
      "byteLimit": 2048000,
      "rowLimit": 10000
     },
     "inputWidgets": {},
     "nuid": "1381eec2-57eb-4317-8081-c842959a2c4f",
     "showTitle": false,
     "tableResultSettingsMap": {},
     "title": ""
    }
   },
   "outputs": [
    {
     "output_type": "execute_result",
     "data": {
      "text/plain": [
       "DataFrame[summary: string, Watamu Marine Park, Mombasa Marine Park, Nairobi Safari Walk, Nairobi National Park, Nairobi Animal Orphanage, Malindi Marine Park, Kiunga Marine Park, Kisite-Mpunguti Marine Park - DAILY REVENUE STATUS for 2025-07-01 - 2025-07-08: string, _c1: string, _c2: string, _c3: string, _c4: string, _c5: string, _c6: string, _c7: string, _c8: string, _c9: string, _c10: string, _c11: string]"
      ]
     },
     "execution_count": 29,
     "metadata": {},
     "output_type": "execute_result"
    }
   ],
   "source": [
    "df.describe()"
   ]
  },
  {
   "cell_type": "code",
   "execution_count": 0,
   "metadata": {
    "application/vnd.databricks.v1+cell": {
     "cellMetadata": {
      "byteLimit": 2048000,
      "rowLimit": 10000
     },
     "inputWidgets": {},
     "nuid": "14d5e862-e393-4033-9ba2-b9fb24aab3df",
     "showTitle": false,
     "tableResultSettingsMap": {},
     "title": ""
    }
   },
   "outputs": [
    {
     "output_type": "execute_result",
     "data": {
      "text/plain": [
       "DataFrame[Watamu Marine Park, Mombasa Marine Park, Nairobi Safari Walk, Nairobi National Park, Nairobi Animal Orphanage, Malindi Marine Park, Kiunga Marine Park, Kisite-Mpunguti Marine Park - DAILY REVENUE STATUS for 2025-07-01 - 2025-07-08: string, _c1: string, _c2: string, _c3: string, _c4: string, _c5: string, _c6: string, _c7: string, _c8: string, _c9: string, _c10: string, _c11: string]"
      ]
     },
     "execution_count": 30,
     "metadata": {},
     "output_type": "execute_result"
    }
   ],
   "source": [
    "df.dropna()"
   ]
  },
  {
   "cell_type": "code",
   "execution_count": 0,
   "metadata": {
    "application/vnd.databricks.v1+cell": {
     "cellMetadata": {
      "byteLimit": 2048000,
      "rowLimit": 10000
     },
     "inputWidgets": {},
     "nuid": "0e25858f-d3c5-4dfe-ae4a-2ad6e0a5dab6",
     "showTitle": false,
     "tableResultSettingsMap": {},
     "title": ""
    }
   },
   "outputs": [
    {
     "output_type": "stream",
     "name": "stdout",
     "output_type": "stream",
     "text": [
      "+--------------------------------------------------------------------------------------------------------------------------------------------------------------------------------------------------------------------------------------+--------------------+-----+----+--------+----+------------+-----+----------+-----+-----------+---------+\n|Watamu Marine Park, Mombasa Marine Park, Nairobi Safari Walk, Nairobi National Park, Nairobi Animal Orphanage, Malindi Marine Park, Kiunga Marine Park, Kisite-Mpunguti Marine Park - DAILY REVENUE STATUS for 2025-07-01 - 2025-07-08|                 _c1|  _c2| _c3|     _c4| _c5|         _c6|  _c7|       _c8|  _c9|       _c10|     _c11|\n+--------------------------------------------------------------------------------------------------------------------------------------------------------------------------------------------------------------------------------------+--------------------+-----+----+--------+----+------------+-----+----------+-----+-----------+---------+\n|                                                                                                                                                                                                                                Report|                NULL| NULL|NULL|    NULL|NULL|        NULL| NULL|      NULL| NULL|       NULL|     NULL|\n|                                                                                                                                                                                                                                  NULL|Total Expected Vi...| NULL|NULL|    NULL|NULL|        NULL| NULL|T/VISITORS|T/VEH|       NULL|     NULL|\n|                                                                                                                                                                                                                                  DATE|             CITIZEN| NULL|NULL|RESIDENT|NULL|NON-RESIDENT| NULL|      NULL| NULL|        KES|      USD|\n|                                                                                                                                                                                                                                  NULL|                   A|    C|   S|       A|   C|           A|    C|      NULL| NULL|       NULL|     NULL|\n|                                                                                                                                                                                                                              1-Jul-25|               318.0|119.0|   0|    12.0|   2|       335.0| 49.0|     835.0| 70.0| 1714845.00| 704.3780|\n|                                                                                                                                                                                                                              2-Jul-25|               329.0| 51.0|   0|    14.0| 5.0|       280.0| 62.0|     741.0| 98.0| 1573440.00|1061.1460|\n|                                                                                                                                                                                                                              3-Jul-25|               431.0| 57.0|  86|     9.0| 5.0|       345.0| 79.0|    1012.0|119.0| 2059325.00|   963.00|\n|                                                                                                                                                                                                                              4-Jul-25|               572.0| 76.0| 172|    10.0| 3.0|       427.0| 67.0|    1327.0|115.0| 2054360.00|2076.7400|\n|                                                                                                                                                                                                                              5-Jul-25|               653.0| 83.0|   0|    30.0| 5.0|       468.0| 79.0|    1318.0|190.0| 2637555.00|  1550.00|\n|                                                                                                                                                                                                                              6-Jul-25|               727.0|151.0|  40|    70.0| 9.0|       372.0| 86.0|    1455.0|222.0| 2396830.00|1581.2080|\n|                                                                                                                                                                                                                              7-Jul-25|               335.0|111.0|   0|    11.0| 1.0|       252.0| 40.0|     750.0| 38.0|  889140.00|1584.0720|\n|                                                                                                                                                                                                                              8-Jul-25|               163.0| 17.0|  70|      15| 6.0|       202.0| 31.0|     504.0| 38.0|  970500.00|        0|\n|                                                                                                                                                                                                                                Totals|              3528.0|665.0| 368|   171.0|36.0|      2681.0|493.0|    7942.0|890.0|14295995.00|9520.5440|\n+--------------------------------------------------------------------------------------------------------------------------------------------------------------------------------------------------------------------------------------+--------------------+-----+----+--------+----+------------+-----+----------+-----+-----------+---------+\n\n"
     ]
    }
   ],
   "source": [
    "df.show()"
   ]
  },
  {
   "cell_type": "code",
   "execution_count": 0,
   "metadata": {
    "application/vnd.databricks.v1+cell": {
     "cellMetadata": {
      "byteLimit": 2048000,
      "rowLimit": 10000
     },
     "inputWidgets": {},
     "nuid": "dcfc8337-691e-459f-ad73-e4ae6bd438b5",
     "showTitle": false,
     "tableResultSettingsMap": {},
     "title": ""
    }
   },
   "outputs": [
    {
     "output_type": "display_data",
     "data": {
      "text/plain": [
       "\u001B[0;31m---------------------------------------------------------------------------\u001B[0m\n",
       "\u001B[0;31mNameError\u001B[0m                                 Traceback (most recent call last)\n",
       "File \u001B[0;32m<command-8937517966785691>, line 1\u001B[0m\n",
       "\u001B[0;32m----> 1\u001B[0m df\u001B[38;5;241m.\u001B[39mdisplay()\n",
       "\n",
       "\u001B[0;31mNameError\u001B[0m: name 'df' is not defined"
      ]
     },
     "metadata": {
      "application/vnd.databricks.v1+output": {
       "addedWidgets": {},
       "arguments": {},
       "datasetInfos": [],
       "jupyterProps": {
        "ename": "NameError",
        "evalue": "name 'df' is not defined"
       },
       "metadata": {
        "errorSummary": "<span class='ansi-red-fg'>NameError</span>: name 'df' is not defined"
       },
       "removedWidgets": [],
       "sqlProps": null,
       "stackFrames": [
        "\u001B[0;31m---------------------------------------------------------------------------\u001B[0m",
        "\u001B[0;31mNameError\u001B[0m                                 Traceback (most recent call last)",
        "File \u001B[0;32m<command-8937517966785691>, line 1\u001B[0m\n\u001B[0;32m----> 1\u001B[0m df\u001B[38;5;241m.\u001B[39mdisplay()\n",
        "\u001B[0;31mNameError\u001B[0m: name 'df' is not defined"
       ],
       "type": "baseError"
      }
     },
     "output_type": "display_data"
    }
   ],
   "source": [
    "df.display()"
   ]
  },
  {
   "cell_type": "code",
   "execution_count": 0,
   "metadata": {
    "application/vnd.databricks.v1+cell": {
     "cellMetadata": {},
     "inputWidgets": {},
     "nuid": "cb8a42b1-1e2a-4fd5-95a5-ea8ee763a2de",
     "showTitle": false,
     "tableResultSettingsMap": {},
     "title": ""
    }
   },
   "outputs": [],
   "source": []
  }
 ],
 "metadata": {
  "application/vnd.databricks.v1+notebook": {
   "computePreferences": null,
   "dashboards": [],
   "environmentMetadata": {
    "base_environment": "",
    "environment_version": "2"
   },
   "inputWidgetPreferences": null,
   "language": "python",
   "notebookMetadata": {
    "pythonIndentUnit": 4
   },
   "notebookName": "KWS ETL",
   "widgets": {}
  },
  "language_info": {
   "name": "python"
  }
 },
 "nbformat": 4,
 "nbformat_minor": 0
}